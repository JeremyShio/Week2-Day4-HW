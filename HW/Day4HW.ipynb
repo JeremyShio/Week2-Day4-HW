{
 "cells": [
  {
   "cell_type": "code",
   "execution_count": null,
   "id": "42424479",
   "metadata": {},
   "outputs": [],
   "source": [
    "# Create an empty dictionary.\n",
    "contacts_list = {}\n",
    "\n",
    "# Set a flag to indicate that user can create a new contact\n",
    "create = True\n",
    "while create:\n",
    "    \n",
    "    # Allow user to input contact name and address\n",
    "    contact_name = input(\"Name: \")\n",
    "    contact_address = input(\"Address: \")\n",
    "    \n",
    "    # Store the user input into contacts_list\n",
    "    contacts_list[contact_name] = contact_address\n",
    "    \n",
    "    # Ask user if they would like to add more contacts\n",
    "    add_more = input(\"Add a new contact? Input: 'Y' or 'N'\")\n",
    "    \n",
    "    # Input of 'y' allows user to create another contact\n",
    "    if add_more.lower() == 'y':\n",
    "        create = True\n",
    "    \n",
    "    # Input of 'n' stops the loop\n",
    "    if add_more.lower() == 'n':\n",
    "        create = False\n",
    "\n",
    "# Print final contact_list\n",
    "print(\"--- Phone Contacts ---\")\n",
    "for contact_name, contact_address in contacts_list.items():\n",
    "    print(f\"Name: {contact_name} --- Address: {contact_address}\")"
   ]
  },
  {
   "cell_type": "code",
   "execution_count": null,
   "id": "7bac196a",
   "metadata": {},
   "outputs": [],
   "source": [
    "# Available Times: '12:00' and '14:30'\n",
    "billy_list = ['09:00', '10:30', '11:30', '12:00', '13:00', '14:30']\n",
    "mandy_list = ['09:30', '10:00', '10:30', '12:00', '14:30', '16:00']\n",
    "grim_list = ['09:00', '09:30', '11:00', '11:30', '12:00', '13:30', '14:30', '15:00']\n",
    "fred_list = ['11:00', '11:30', '12:00', '14:00', '14:30', '16:30', '17:00']\n",
    "\n",
    "# Empty sets for new elements\n",
    "billy = set()\n",
    "mandy = set()\n",
    "grim = set()\n",
    "fred = set()\n",
    "\n",
    "# Converting lists to sets\n",
    "for time in billy_list:\n",
    "    billy.add(time)\n",
    "for time in mandy_list:\n",
    "    mandy.add(time)\n",
    "for time in grim_list:\n",
    "    grim.add(time)\n",
    "for time in fred_list:\n",
    "    fred.add(time)\n",
    "\n",
    "# Empty sets for index'd sets\n",
    "s1 = billy & mandy\n",
    "s2 = grim & fred\n",
    "s3 = s1 & s2\n",
    "\n",
    "print(s3)"
   ]
  }
 ],
 "metadata": {
  "kernelspec": {
   "display_name": "Python 3 (ipykernel)",
   "language": "python",
   "name": "python3"
  },
  "language_info": {
   "codemirror_mode": {
    "name": "ipython",
    "version": 3
   },
   "file_extension": ".py",
   "mimetype": "text/x-python",
   "name": "python",
   "nbconvert_exporter": "python",
   "pygments_lexer": "ipython3",
   "version": "3.9.12"
  }
 },
 "nbformat": 4,
 "nbformat_minor": 5
}
